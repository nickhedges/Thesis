{
 "cells": [
  {
   "cell_type": "code",
   "execution_count": 1,
   "metadata": {
    "scrolled": true
   },
   "outputs": [
    {
     "name": "stdout",
     "output_type": "stream",
     "text": [
      "Populating the interactive namespace from numpy and matplotlib\n"
     ]
    }
   ],
   "source": [
    "from scipy.io import wavfile as wav\n",
    "import GPy\n",
    "%pylab inline\n",
    "\n",
    "figsize(15, 5)"
   ]
  },
  {
   "cell_type": "markdown",
   "metadata": {},
   "source": [
    "# Data"
   ]
  },
  {
   "cell_type": "markdown",
   "metadata": {},
   "source": [
    "Note the following:\n",
    "\n",
    "- Normalize data `x`to lie between -1 and 1\n",
    "- Take the unit of time `t` to be msec\n",
    "\n",
    "Both are commonly used scales in the audio world.\n",
    "\n",
    "Apart from being convenient (i.e. all the relevant quantities will be of order 1), these scales are also practically important. Why?\n",
    "\n",
    "1. Default settings of GPs are often `1.`, so you want the number one to *mean* something relevant\n",
    "2. We work on discrete computers, not idealized continuous math, so our computations will be most precise if we stick in general to quantities of order 1"
   ]
  },
  {
   "cell_type": "code",
   "execution_count": null,
   "metadata": {},
   "outputs": [],
   "source": [
    "rate, data = wav.read('../data/3-notes.wav')\n",
    "data = data/amax(abs(data))\n",
    "data -= mean(data)  # Remove inaudible DC component (i.e., the mean)\n",
    "print('Data mean =', mean(data))\n",
    "\n",
    "x = data[:, 0]\n",
    "t = arange(len(x))*1000./rate"
   ]
  },
  {
   "cell_type": "code",
   "execution_count": null,
   "metadata": {},
   "outputs": [],
   "source": [
    "plot(t, x)\n",
    "xlabel('time (msec)')\n",
    "ylabel('amplitude (a.u.)')"
   ]
  },
  {
   "cell_type": "code",
   "execution_count": null,
   "metadata": {},
   "outputs": [],
   "source": [
    "first_note = x[6100:6500]\n",
    "second_note = x[7800:8200]\n",
    "third_note = x[10000:10400]\n",
    "\n",
    "full_t = linspace(0, 400*1000./rate, 400)  # msec\n",
    "full_x = first_note\n",
    "del second_note\n",
    "del third_note\n",
    "\n",
    "train_t = concatenate((full_t[:200], full_t[300:]))\n",
    "train_x = concatenate((full_x[:200], full_x[300:]))\n",
    "test_t = full_t[200:300]\n",
    "test_x = full_x[200:300]\n",
    "\n",
    "# Add annoying singleton dimensions for use in GPy\n",
    "full_T = full_t[:, None]\n",
    "full_X = full_x[:, None]\n",
    "train_T = train_t[:, None]\n",
    "train_X = train_x[:, None]\n",
    "test_T = test_t[:, None]\n",
    "test_X = test_x[:, None]"
   ]
  },
  {
   "cell_type": "markdown",
   "metadata": {},
   "source": [
    "## Looking at the data\n",
    "\n",
    "Acquire prior information to use in the GPs, both in time and spectral domain. The harmonic structure is clearly visible in the spectrum.\n",
    "\n",
    "The practical use of prior information is to constrain the optimization and make it more likely to produce something we like, i.e. the model's predictions should exhibit properties we already know to be true.\n",
    "\n",
    "Here we calculate\n",
    "\n",
    "1. Test data variance\n",
    "2. The dominant frequency `fmax` present in the full data (i.e. with maximum power). In this particular case, the fundamental frequency `f0` is *not* the dominant one; rather, the first harmonic is (`fmax = 2*f0`). If you look closely at the waveform, you can see that each fundamental period exists of two nearly identical subperiods of the same length, of which one has an extra sharp wiggle added. This detail is accordingly reflected in the spectrum.\n",
    "\n",
    "We then use these values below to set the starting guesses for the GP parameters.\n",
    "\n",
    "Notes for point (2):\n",
    "\n",
    "- By calculating it from `full_x` we are cheating because we look at the training data. Instead, we should calculate the dominant frequencies present in the left and right part of the training data (**not the concatenated training data**) and average them. But in this particular toy problem we choose to take this shortcut.\n",
    "\n",
    "- Usually `f0` is the dominant frequency, so this data is unusual in that respect. Because the first harmonic `fmax` is so strong, humans may or may not perceive the pitch of this audio fragment to be `2f0` rather than `f0`. I add for completeness that for this reason sometimes the fundamental frequency is redefined to be the first harmonic and the fundamental frequency is then redefined as the first *subharmonic*."
   ]
  },
  {
   "cell_type": "code",
   "execution_count": null,
   "metadata": {},
   "outputs": [],
   "source": [
    "var_x = var(train_x)\n",
    "std_x = sqrt(var_x)\n",
    "print('Standard deviation of the data (a.u.) =', std_x)\n",
    "\n",
    "subplot(121)\n",
    "spectrum, freqs, _ = magnitude_spectrum(full_x, Fs=rate, scale='dB')\n",
    "\n",
    "# Find and annotate dominant frequency component (largest peak in the spectrum)\n",
    "fmax = freqs[argmax(spectrum)]  # Hz\n",
    "f0 = fmax/2  # Hz\n",
    "Tmax = 1000./fmax  # msec\n",
    "T0 = Tmax*2  # msec\n",
    "\n",
    "axvline(x=f0, label='fundamental frequency', color='red')\n",
    "axvline(x=fmax, label='dominant frequency', color='black')\n",
    "legend()\n",
    "\n",
    "subplot(122)\n",
    "plot(train_t, train_x, '-', label='train')\n",
    "plot(test_t, test_x, '-', label='test', color='lightgreen')\n",
    "errorbar(10, 0, xerr=T0/2, capsize=5, label='fundamental period', color='red')\n",
    "errorbar(10, -.1, xerr=Tmax/2, capsize=5,\n",
    "         label='period corresponding to dominant frequency')\n",
    "xlabel('time (msec)')\n",
    "ylabel('amplitude (a.u.)')\n",
    "legend()\n",
    "\n",
    "print('Dominant frequency component (Hz) =', fmax)\n",
    "print(f'Corresponding period (msec) = ', Tmax)"
   ]
  },
  {
   "cell_type": "markdown",
   "metadata": {},
   "source": [
    "# Inference"
   ]
  },
  {
   "cell_type": "markdown",
   "metadata": {},
   "source": [
    "## RBF kernel\n",
    "\n",
    "GPy's RBF agrees with Rasmussen & Williams (2006, 83):\n",
    "\n",
    "$$\n",
    "k(r) = \\sigma^2 \\exp -\\frac{1}{2} \\frac{r^2}{\\ell^2}\n",
    "$$\n",
    "\n",
    "where $r = |x - x'|$. We also add observation noise with variance $\\sigma_0^2$."
   ]
  },
  {
   "cell_type": "markdown",
   "metadata": {},
   "source": [
    "### Vanilla kernel (not optimized, just guesses for hyperparameters)\n",
    "\n",
    "What are sensible guesses for the hyperparameters $\\sigma_0^2$, $\\sigma^2$ and $\\ell$?\n",
    "\n",
    "- $\\sigma_0^2$ regulates the balance between data fit and giving freedom to the model. We believe that the data contains almost no noise, i.e. our model should capture all significant properties of the data (in our case this means capturing the dominant frequency with some slow amplitude modulation). So we set $\\sigma_0^2$ to a small value. The usual way of expressing the strength of the noise relative to the data is by means of [SNR](https://en.wikipedia.org/wiki/Signal-to-noise_ratio) (signal-to-noise ratio), where the signal and noise power are measured typically by their variance. A SNR of 1 (or, equivalently, 0 dB) is a very dirty signal, where \"noise and signal are equally powerful\". SNRs over 20 dB are considered signals with small noise, though the noise is easily discernible by humans in audio context in vanilla applications. (The dynamic range of the human auditory system is 130 dB.) For reference, a SNR of 20 dB is the baseline achieved by linear models of quasi-periodic signals such as voiced speech. For example, the encoders and decoders used in Skype and Whatsapp will use models which can achieve SNRs >= 25 dB.\n",
    "\n",
    "- For $\\sigma^2$ we just take the data variance.\n",
    "\n",
    "- For $\\ell$ we need to think harder. It is the characteristic lengthscale, but what does this mean? One way of understanding this is in terms of how many times the function wiggles (changes direction) around the mean, since we expect that the function stays smooth (i.e. doesn't change direction abruptly) in an interval approximately the size of $\\ell$. This is quantified by the expected number of zero upcrossings (EZUP). You can see how this then correlatess with oscillations around zero, which in turn correlates with the dominant frequency. These are mere correlations, not implications, but suffice for guessing starting values for the optimization.\n",
    "\n",
    "  Read Rasmussen & Williams (2006, 83) for more about EZUP and $\\ell$."
   ]
  },
  {
   "cell_type": "markdown",
   "metadata": {},
   "source": [
    "#### Sampling from vanilla kernel"
   ]
  },
  {
   "cell_type": "code",
   "execution_count": null,
   "metadata": {},
   "outputs": [],
   "source": [
    "def SNR_to_noise_power(signal_power, SNR_dB):\n",
    "    \"\"\"\n",
    "    Solve the SNR formula\n",
    "\n",
    "        SNR_dB = 10 log10[signal_power/noise_power]\n",
    "\n",
    "    for noise_power.\n",
    "    \"\"\"\n",
    "    noise_power = signal_power*10.**(-SNR_dB/10.)\n",
    "    return noise_power\n",
    "\n",
    "\n",
    "SNR = 20  # dB\n",
    "noise_var = SNR_to_noise_power(var_x, SNR)\n",
    "\n",
    "# Derive lengthscale from expected number of zero upcrossings in unit interval (1 msec)\n",
    "# We derive the number of zero upcrossings per msec from the dominant frequency component\n",
    "# Formula from Rasmussen & Williams (2006, 83)\n",
    "ell_guess = Tmax/(2*pi)\n",
    "\n",
    "k1 = GPy.kern.GridRBF(1, variance=var_x, lengthscale=ell_guess)\n",
    "k2 = GPy.kern.White(1, variance=noise_var)\n",
    "k = k1 + k2\n",
    "\n",
    "cov = k.K(full_T)\n",
    "\n",
    "title('Compare full data to vanilla RBF kernel with sensible defaults')\n",
    "plot(full_t, full_x, label='full data')\n",
    "legend()\n",
    "n = 2\n",
    "for i in range(n):\n",
    "    x0 = multivariate_normal(full_t*0., cov)\n",
    "    plot(full_t, 2*i + x0, alpha=1/n, color='black')"
   ]
  },
  {
   "cell_type": "markdown",
   "metadata": {},
   "source": [
    "#### Sampling from vanilla kernel **conditioned on the training data**"
   ]
  },
  {
   "cell_type": "code",
   "execution_count": null,
   "metadata": {},
   "outputs": [],
   "source": [
    "# Note: GPRegression() automatically adds observation noise (our k2 above) for reasons of numerical\n",
    "# stability. So we supply only the RBF kernel to this function\n",
    "m = GPy.models.GPRegression(train_T, train_X, k1, noise_var=noise_var)\n",
    "\n",
    "%run display_m.ipy"
   ]
  },
  {
   "cell_type": "markdown",
   "metadata": {},
   "source": [
    "### Optimize\n",
    "\n",
    "GP has no predictive power and reverts to 0. We have just overfitted the training data."
   ]
  },
  {
   "cell_type": "code",
   "execution_count": null,
   "metadata": {},
   "outputs": [],
   "source": [
    "m.optimize(messages=True)\n",
    "\n",
    "# Rasmussen & Williams (2006, 83)\n",
    "zero_crossing_rate_per_msec = 1/(m.gridRBF.lengthscale*2*pi)\n",
    "print('Equivalent mean zero upcrossing rate (Hz) =',\n",
    "      1000./(m.gridRBF.lengthscale*2*pi))\n",
    "\n",
    "%run display_m.ipy"
   ]
  },
  {
   "cell_type": "markdown",
   "metadata": {},
   "source": [
    "## Standard periodic kernel\n",
    "\n",
    "The standard periodic kernel is a periodic RBF kernel, i.e. the periods are modeled by a RBF kernel.\n",
    "\n",
    "GPy's standard periodic kernel in 1D for period $\\lambda$:\n",
    "\n",
    "$$\n",
    "k(r) = \\sigma^2 \\exp \\left[  - \\frac{1}{2} \\frac{\\sin^2(\\frac{\\pi}{\\lambda} r )}{\\ell^2} \\right]\n",
    "$$\n",
    "\n",
    "where $r = |x - x'|$. Note about the formula: the function $\\sin(\\pi r/\\lambda)$ has period $T=\\lambda/2$. The function $\\sin^2(\\pi r/\\lambda)$ has period $T=\\lambda$.\n",
    "\n",
    "Parameter guesses:\n",
    "\n",
    "- $\\sigma^2$: as before\n",
    "\n",
    "- $\\lambda$: Now we take the period to be `T0`, the fundamental frequency, because we hope that the wiggle can be modeled by the underlying RBF kernel controlled by parameters $\\sigma^2$ and $\\ell$.\n",
    "\n",
    "- $\\ell$: We can use the same reasoning as before. The expected number of zero upcrossings EZUP by the RBF kernel sample during one period $\\lambda$ is $\\text{EZUP}=\\lambda/(2\\pi\\ell)$. Normally we would not like to have periodical behavior within the fundamental period, so we would set EZUP to one, such that $\\ell_\\text{normal} = \\lambda/2\\pi$. But our data is special, because we have a dominant first harmonic. So we know that there is a strong subperiod during one $\\lambda$, such that EZUP = 2. This gives $\\ell_\\text{subharmonic} = \\lambda/4\\pi$.\n",
    "\n",
    "  Note that the value of $\\ell$ is robust to change, and using $\\ell_\\text{normal}$ should be fine. Below we use $\\ell_\\text{subharmonic}$ to see the effect it has on GP samples."
   ]
  },
  {
   "cell_type": "markdown",
   "metadata": {},
   "source": [
    "### Sampling from vanilla kernel with parameter guesses"
   ]
  },
  {
   "cell_type": "code",
   "execution_count": null,
   "metadata": {},
   "outputs": [],
   "source": [
    "ell_period_guess = T0/(4*pi)\n",
    "\n",
    "k = GPy.kern.StdPeriodic(1, variance=var_x, period=T0,\n",
    "                         lengthscale=ell_period_guess)\n",
    "\n",
    "cov = k.K(full_T)\n",
    "\n",
    "title('Compare full data to vanilla StdPeriodic kernel with sensible defaults')\n",
    "plot(full_t, full_x, label='full data')\n",
    "legend()\n",
    "n = 3\n",
    "for i in range(n):\n",
    "    x0 = multivariate_normal(full_t*0., cov)\n",
    "    plot(full_t, 2*i + x0, alpha=1/n, color='black')\n",
    "\n",
    "show()\n",
    "\n",
    "title('Compare full data spectrum with spectrum of a vanilla StdPeriodic GP sample with sensible defaults')\n",
    "magnitude_spectrum(full_x, rate, scale='dB', label='full data')\n",
    "magnitude_spectrum(x0, rate, scale='dB', color='black', label='GP sample')\n",
    "legend()"
   ]
  },
  {
   "cell_type": "markdown",
   "metadata": {},
   "source": [
    "### Optimize"
   ]
  },
  {
   "cell_type": "code",
   "execution_count": null,
   "metadata": {},
   "outputs": [],
   "source": [
    "m = GPy.models.GPRegression(train_T, train_X, k, noise_var=noise_var)\n",
    "m.optimize(messages=True)\n",
    "\n",
    "%run display_m.ipy\n",
    "\n",
    "xmean, cov = m.predict(full_T, full_cov=True)\n",
    "\n",
    "title('Compare full data spectrum with spectrum of inferred GP mean')\n",
    "magnitude_spectrum(full_x, rate, scale='dB', label='full data')\n",
    "magnitude_spectrum(xmean[:, 0], rate, scale='dB',\n",
    "                   color='black', label='GP mean')\n",
    "legend()\n",
    "show()\n",
    "\n",
    "title('Details of prediction')\n",
    "xmean, cov = m.predict(test_T, full_cov=True)\n",
    "plot(test_t, test_x, color='lightgreen')\n",
    "n = 5\n",
    "for i in range(n):\n",
    "    x0 = multivariate_normal(xmean[:, 0], cov)\n",
    "    plot(test_t, x0, alpha=1/n, color='black')\n",
    "\n",
    "show()"
   ]
  },
  {
   "cell_type": "markdown",
   "metadata": {},
   "source": [
    "## Standard periodic kernel whose amplitude is modulated by an RBF\n",
    "\n",
    "We can get slightly better performance by modulating the whole signal by a RBF with a very long lengthscale (i.e. very slow modulation). Our guess for this lengthscale $\\ell_\\text{modulator}$ is 50 times that of the lengthscale associated with the fundamental frequency of the signal.\n",
    "\n",
    "To encode that $\\ell_\\text{modulator}$ represents large-scale modulation and should not interfere with the short-scale frequency components of the signal, we could for example put a Gaussian prior on it, $p(\\ell_\\text{modulator}) = \\mathcal{N}(\\mu=100, \\sigma=10)$, or do other smarter things."
   ]
  },
  {
   "cell_type": "code",
   "execution_count": null,
   "metadata": {},
   "outputs": [],
   "source": [
    "ell_guess_modulator = 50*T0/(2*pi)\n",
    "\n",
    "k1 = GPy.kern.GridRBF(1, variance=var_x, lengthscale=ell_guess_modulator)\n",
    "\n",
    "k2 = GPy.kern.StdPeriodic(1, variance=1., period=T0,\n",
    "                          lengthscale=ell_period_guess)\n",
    "# Since k1 controls the variance, we can save computation and set this to one\n",
    "k2.variance.fix()\n",
    "\n",
    "k = k1*k2\n",
    "\n",
    "m = GPy.models.GPRegression(train_T, train_X, k, noise_var=noise_var)\n",
    "m.optimize(messages=True)\n",
    "\n",
    "%run display_m.ipy"
   ]
  },
  {
   "cell_type": "markdown",
   "metadata": {},
   "source": [
    "# Discussion\n",
    "\n",
    "- We didn't underestimate complexity of the data, we underestimated the complexity of the optimize landscape: we need to be close to the global maximum!\n",
    "\n",
    "- Sensible defaults matter\n",
    "\n",
    "- That global maximum does correspond with what we want for simple models, so the GPs don't fail us, it's just that we need to optimize them better\n",
    "\n",
    "- Various ways of doing this :\n",
    "\n",
    "  1. Extract guesses automatically from data (here)\n",
    "\n",
    "  2. Use prior distributions on the parameters, e.g. Gaussians, and do MAP optimization instead of ML optimization\n",
    "\n",
    "  3. Use different optimizing strategy (e.g. global minimum search routines)\n",
    "\n",
    "  4. Use more complex models which are more tolerant to lazy initial guesses\n",
    "\n",
    "  I'd say points 1, 2 and 4 are crucial."
   ]
  }
 ],
 "metadata": {
  "jupytext": {
   "formats": "ipynb,py:percent"
  },
  "kernelspec": {
   "display_name": "Python 3",
   "language": "python",
   "name": "python3"
  },
  "language_info": {
   "codemirror_mode": {
    "name": "ipython",
    "version": 3
   },
   "file_extension": ".py",
   "mimetype": "text/x-python",
   "name": "python",
   "nbconvert_exporter": "python",
   "pygments_lexer": "ipython3",
   "version": "3.9.0"
  }
 },
 "nbformat": 4,
 "nbformat_minor": 4
}
